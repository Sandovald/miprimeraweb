{
 "cells": [
  {
   "cell_type": "code",
   "execution_count": 13,
   "id": "6be2f185",
   "metadata": {},
   "outputs": [
    {
     "data": {
      "text/html": [
       "\n",
       "<h1>Servicios de la nube</h1>\n",
       "<center>\n",
       "<img src=\"Imagenes/Servicios.jpg\"\n",
       "    width= \"350\"\n",
       "    height= \"350\"/>\n",
       "</center>\n",
       "<p>Los servicios en la nube son servicios que se utilizan a través de Internet. Es decir, no están físicamente \n",
       "instalados en tu ordenador. Se trata de un nuevo paradigma que surgió con el advenimiento de la World Wide Web.\n",
       "Antes de que apareciera la nube, todos los programas informáticos se instalaban en el ordenador. Los servicios \n",
       "en la nube son programas que se alojan en un servidor accesibles desde cualquier dispositivo conectado a Internet.\n",
       "Las ventajas de este tipo de servicios son evidentes, ya que su uso no está restringido a un solo equipo \n",
       "informático y la seguridad, capacidad de almacenamiento y recursos de la nube son mayores que los de un \n",
       "ordenador.</p>\n"
      ],
      "text/plain": [
       "<IPython.core.display.HTML object>"
      ]
     },
     "metadata": {},
     "output_type": "display_data"
    }
   ],
   "source": [
    "%%html\n",
    "\n",
    "<h1>Servicios de la nube</h1>\n",
    "<center>\n",
    "<img src=\"Imagenes/Servicios.jpg\"\n",
    "    width= \"350\"\n",
    "    height= \"350\"/>\n",
    "</center>\n",
    "<p>Los servicios en la nube son servicios que se utilizan a través de Internet. Es decir, no están físicamente \n",
    "instalados en tu ordenador. Se trata de un nuevo paradigma que surgió con el advenimiento de la World Wide Web.\n",
    "Antes de que apareciera la nube, todos los programas informáticos se instalaban en el ordenador. Los servicios \n",
    "en la nube son programas que se alojan en un servidor accesibles desde cualquier dispositivo conectado a Internet.\n",
    "Las ventajas de este tipo de servicios son evidentes, ya que su uso no está restringido a un solo equipo \n",
    "informático y la seguridad, capacidad de almacenamiento y recursos de la nube son mayores que los de un \n",
    "ordenador.</p>"
   ]
  },
  {
   "cell_type": "code",
   "execution_count": 12,
   "id": "335f1562",
   "metadata": {},
   "outputs": [
    {
     "data": {
      "text/html": [
       "<style>\n",
       " h1 {text-align: center;}\n",
       "</style>\n",
       "<style>\n",
       "img {\n",
       "display: block;\n",
       "margin-left: auto;\n",
       "margin-right: auto;\n",
       "}\n",
       "</style>\n"
      ],
      "text/plain": [
       "<IPython.core.display.HTML object>"
      ]
     },
     "metadata": {},
     "output_type": "display_data"
    }
   ],
   "source": [
    "%%html\n",
    "<style>\n",
    " h1 {text-align: center;}\n",
    "</style>\n"
   ]
  },
  {
   "cell_type": "code",
   "execution_count": null,
   "id": "cf1f01f5",
   "metadata": {},
   "outputs": [],
   "source": []
  }
 ],
 "metadata": {
  "kernelspec": {
   "display_name": "Python 3",
   "language": "python",
   "name": "python3"
  },
  "language_info": {
   "codemirror_mode": {
    "name": "ipython",
    "version": 3
   },
   "file_extension": ".py",
   "mimetype": "text/x-python",
   "name": "python",
   "nbconvert_exporter": "python",
   "pygments_lexer": "ipython3",
   "version": "3.8.8"
  }
 },
 "nbformat": 4,
 "nbformat_minor": 5
}
