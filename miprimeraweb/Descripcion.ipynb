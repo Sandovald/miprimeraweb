{
 "cells": [
  {
   "cell_type": "code",
   "execution_count": 1,
   "id": "8f9d99b8",
   "metadata": {},
   "outputs": [
    {
     "data": {
      "text/html": [
       "<h1>Descripción General</h1>\n",
       "<center>\n",
       "<img src=\"Imagenes/Descripcion.jpg\"\n",
       "    width= \"300\"\n",
       "    height= \"300\"/>\n",
       "</center>\n",
       "<h3>Descripción</h3>\n",
       "<center>\n",
       "<table class=\"Descripcion\">\n",
       "  <tr>\n",
       "    <td>Nombre</td>\n",
       "    <td>Danny Sandoval</td>\n",
       "  </tr>\n",
       "  <tr>\n",
       "    <td>Edad</td>\n",
       "    <td>29 años</td>\n",
       "  </tr>\n",
       "  <tr>\n",
       "    <td>Universidad</td>\n",
       "    <td>UTPL</td>\n",
       "  </tr>\n",
       "  <tr>\n",
       "    <td>Semestre</td>\n",
       "    <td>6 Semestre</td>\n",
       "  </tr>\n",
       "</table>\n",
       "</center>\n",
       "\n",
       "<style>\n",
       " h1 {text-align: center;}\n",
       " \n",
       " h3 {text-align: center;}   \n",
       "</style>\n"
      ],
      "text/plain": [
       "<IPython.core.display.HTML object>"
      ]
     },
     "metadata": {},
     "output_type": "display_data"
    }
   ],
   "source": [
    "%%html\n",
    "<h1>Descripción General</h1>\n",
    "<center>\n",
    "<img src=\"Imagenes/Descripcion.jpg\"\n",
    "    width= \"300\"\n",
    "    height= \"300\"/>\n",
    "</center>\n",
    "<h3>Descripción</h3>\n",
    "<center>\n",
    "<table class=\"Descripcion\">\n",
    "  <tr>\n",
    "    <td>Nombre</td>\n",
    "    <td>Danny Sandoval</td>\n",
    "  </tr>\n",
    "  <tr>\n",
    "    <td>Edad</td>\n",
    "    <td>29 años</td>\n",
    "  </tr>\n",
    "  <tr>\n",
    "    <td>Universidad</td>\n",
    "    <td>UTPL</td>\n",
    "  </tr>\n",
    "  <tr>\n",
    "    <td>Semestre</td>\n",
    "    <td>6 Semestre</td>\n",
    "  </tr>\n",
    "</table>\n",
    "</center>\n",
    "\n",
    "<style>\n",
    " h1 {text-align: center;}\n",
    " \n",
    " h3 {text-align: center;}   \n",
    "</style>"
   ]
  },
  {
   "cell_type": "code",
   "execution_count": 14,
   "id": "6aecf1a9",
   "metadata": {},
   "outputs": [
    {
     "data": {
      "text/html": [
       "<style>\n",
       " h1 {text-align: center;}\n",
       " \n",
       " h3 {text-align: center;}   \n",
       "</style>\n"
      ],
      "text/plain": [
       "<IPython.core.display.HTML object>"
      ]
     },
     "metadata": {},
     "output_type": "display_data"
    }
   ],
   "source": []
  },
  {
   "cell_type": "code",
   "execution_count": null,
   "id": "b020725a",
   "metadata": {},
   "outputs": [],
   "source": []
  }
 ],
 "metadata": {
  "kernelspec": {
   "display_name": "Python 3 (ipykernel)",
   "language": "python",
   "name": "python3"
  },
  "language_info": {
   "codemirror_mode": {
    "name": "ipython",
    "version": 3
   },
   "file_extension": ".py",
   "mimetype": "text/x-python",
   "name": "python",
   "nbconvert_exporter": "python",
   "pygments_lexer": "ipython3",
   "version": "3.8.12"
  }
 },
 "nbformat": 4,
 "nbformat_minor": 5
}
