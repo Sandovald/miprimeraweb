{
 "cells": [
  {
   "cell_type": "code",
   "execution_count": 5,
   "id": "e38f6e07",
   "metadata": {},
   "outputs": [
    {
     "data": {
      "text/html": [
       "<h1>Mi Primera Web</h1>\n",
       "<ul>\n",
       "    <li><a href=\"https://www.youtube.com/channel/UCX3g-F13Ybylczw04M1n-3A\">Inicio</a></li>            \n",
       "    <li><a href=\"Descripcion.ipynb\">Descripción</a></li>\n",
       "    <li><a href=\"Perfil.ipynb\">Perfil</a></li>\n",
       "    <li><a href=\"Servicios.ipynb\">Servicios</a></li>\n",
       "</ul>\n",
       "<center>\n",
       "<img src=\"Imagenes/utpl2.png\"\n",
       "    width= \"80\"\n",
       "    height= \"80\"/>\n",
       "</center>\n",
       "<p align=\"justify\">En esta pagina web se busca trabajar con una nueva plataforma, la cual es Jupyter notebook que me a \n",
       "permitido centrar en las actividades descritas, pero con un interés en especifico ya que no se conoce mucho \n",
       "sobre este método de desarrollo, por lo que fue interesante y crucial desarrollarlo.</p>\n",
       "\n",
       "<style>\n",
       " h1 {text-align: center;}\n",
       "</style>\n",
       "<style>\n",
       " ul {\n",
       "  list-style-type: none;\n",
       "  text-align: center\n",
       "}\n",
       "\n",
       "li {\n",
       "  background-color: #F6E3CA;\n",
       "  border: #D7C8B6 2px solid;\n",
       "  display: inline;\n",
       "  margin-right: 10px;\n",
       "}\n",
       "\n",
       "a {\n",
       "  font size=4;\n",
       "  color: black;\n",
       "  padding: 0 8px;\n",
       "  text-decoration: none;\n",
       "}\n",
       "</style>\n",
       "<style>\n",
       " h4{text-align: center;}\n",
       "</style>\n",
       "\n"
      ],
      "text/plain": [
       "<IPython.core.display.HTML object>"
      ]
     },
     "metadata": {},
     "output_type": "display_data"
    }
   ],
   "source": [
    "%%html\n",
    "<h1>Mi Primera Web</h1>\n",
    "<ul>\n",
    "    <li><a href=\"https://www.youtube.com/channel/UCX3g-F13Ybylczw04M1n-3A\">Inicio</a></li>            \n",
    "    <li><a href=\"Descripcion.ipynb\">Descripción</a></li>\n",
    "    <li><a href=\"Perfil.ipynb\">Perfil</a></li>\n",
    "    <li><a href=\"Servicios.ipynb\">Servicios</a></li>\n",
    "</ul>\n",
    "<center>\n",
    "<img src=\"Imagenes/utpl2.png\"\n",
    "    width= \"80\"\n",
    "    height= \"80\"/>\n",
    "</center>\n",
    "<p align=\"justify\">En esta pagina web se busca trabajar con una nueva plataforma, la cual es Jupyter notebook que me a \n",
    "permitido centrar en las actividades descritas, pero con un interés en especifico ya que no se conoce mucho \n",
    "sobre este método de desarrollo, por lo que fue interesante y crucial desarrollarlo.</p>\n",
    "\n",
    "<style>\n",
    " h1 {text-align: center;}\n",
    "</style>\n",
    "<style>\n",
    " ul {\n",
    "  list-style-type: none;\n",
    "  text-align: center\n",
    "}\n",
    "\n",
    "li {\n",
    "  background-color: #F6E3CA;\n",
    "  border: #D7C8B6 2px solid;\n",
    "  display: inline;\n",
    "  margin-right: 10px;\n",
    "}\n",
    "\n",
    "a {\n",
    "  font size=4;\n",
    "  color: black;\n",
    "  padding: 0 8px;\n",
    "  text-decoration: none;\n",
    "}\n",
    "</style>\n",
    "<style>\n",
    " h4{text-align: center;}\n",
    "</style>\n",
    "\n"
   ]
  },
  {
   "cell_type": "code",
   "execution_count": 4,
   "id": "731ea8b1",
   "metadata": {},
   "outputs": [
    {
     "data": {
      "text/html": [
       "\n",
       "<style>\n",
       " h1 {text-align: center;}\n",
       "</style>\n",
       "<style>\n",
       " ul {\n",
       "  list-style-type: none;\n",
       "  text-align: center\n",
       "}\n",
       "\n",
       "li {\n",
       "  background-color: #F6E3CA;\n",
       "  border: #D7C8B6 2px solid;\n",
       "  display: inline;\n",
       "  margin-right: 10px;\n",
       "}\n",
       "\n",
       "a {\n",
       "  font size=4;\n",
       "  color: black;\n",
       "  padding: 0 8px;\n",
       "  text-decoration: none;\n",
       "}\n",
       "</style>\n",
       "<style>\n",
       " h4{text-align: center;}\n",
       "</style>\n"
      ],
      "text/plain": [
       "<IPython.core.display.HTML object>"
      ]
     },
     "metadata": {},
     "output_type": "display_data"
    }
   ],
   "source": []
  },
  {
   "cell_type": "code",
   "execution_count": null,
   "id": "0075cd03",
   "metadata": {},
   "outputs": [],
   "source": []
  }
 ],
 "metadata": {
  "kernelspec": {
   "display_name": "Python 3 (ipykernel)",
   "language": "python",
   "name": "python3"
  },
  "language_info": {
   "codemirror_mode": {
    "name": "ipython",
    "version": 3
   },
   "file_extension": ".py",
   "mimetype": "text/x-python",
   "name": "python",
   "nbconvert_exporter": "python",
   "pygments_lexer": "ipython3",
   "version": "3.8.12"
  }
 },
 "nbformat": 4,
 "nbformat_minor": 5
}
