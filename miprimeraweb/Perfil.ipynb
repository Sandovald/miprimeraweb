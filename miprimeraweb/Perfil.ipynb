{
 "cells": [
  {
   "cell_type": "code",
   "execution_count": 1,
   "id": "6c0454aa",
   "metadata": {},
   "outputs": [
    {
     "data": {
      "text/html": [
       "\n",
       "<h1>Perfil</h1>\n",
       "<center>\n",
       "<img src=\"Imagenes/Perfil.jpg\"\n",
       "    width= \"300\"\n",
       "    height= \"300\"/>\n",
       "</center>\n",
       "<p>Me desempeño como Policía nacional en el país, exactamente en una unidad de investigación que me a \n",
       "permitido conocer la mayoría de los lugares del país, en dos semanas prácticamente visite 4 ciudades \n",
       "fuera de Quito, me e visto complicado en mi tema de estudios debido a que no e podido completar con \n",
       "éxito mis actividades debido a que me toca viajar regularmente. Pero no es suficiente para limitarme en \n",
       "seguir aprendiendo, ya que es uno de mis mayores sueños, el obtener mi profesión el cual me permitirá \n",
       "ostentar puestos en donde trabajare por lo que se, en horarios mas flexibles.</p>\n",
       "\n",
       "<style>\n",
       " h1 {text-align: center;\n",
       "    }\n",
       "</style>\n",
       "<style>\n",
       "p.centrado {\n",
       "  text-align: center;\n",
       "}\n",
       "</style>\n"
      ],
      "text/plain": [
       "<IPython.core.display.HTML object>"
      ]
     },
     "metadata": {},
     "output_type": "display_data"
    }
   ],
   "source": [
    "%%html\n",
    "\n",
    "<h1>Perfil</h1>\n",
    "<center>\n",
    "<img src=\"Imagenes/Perfil.jpg\"\n",
    "    width= \"300\"\n",
    "    height= \"300\"/>\n",
    "</center>\n",
    "<p>Me desempeño como Policía nacional en el país, exactamente en una unidad de investigación que me a \n",
    "permitido conocer la mayoría de los lugares del país, en dos semanas prácticamente visite 4 ciudades \n",
    "fuera de Quito, me e visto complicado en mi tema de estudios debido a que no e podido completar con \n",
    "éxito mis actividades debido a que me toca viajar regularmente. Pero no es suficiente para limitarme en \n",
    "seguir aprendiendo, ya que es uno de mis mayores sueños, el obtener mi profesión el cual me permitirá \n",
    "ostentar puestos en donde trabajare por lo que se, en horarios mas flexibles.</p>\n",
    "\n",
    "<style>\n",
    " h1 {text-align: center;\n",
    "    }\n",
    "</style>\n",
    "<style>\n",
    "p.centrado {\n",
    "  text-align: center;\n",
    "}\n",
    "</style>\n"
   ]
  },
  {
   "cell_type": "code",
   "execution_count": 3,
   "id": "fe137605",
   "metadata": {},
   "outputs": [
    {
     "data": {
      "text/html": [
       "<style>\n",
       " h1 {text-align: center;\n",
       "    }\n",
       "</style>\n",
       "<style>\n",
       "p.centrado {\n",
       "  text-align: center;\n",
       "}\n",
       "</style>\n"
      ],
      "text/plain": [
       "<IPython.core.display.HTML object>"
      ]
     },
     "metadata": {},
     "output_type": "display_data"
    }
   ],
   "source": []
  },
  {
   "cell_type": "code",
   "execution_count": null,
   "id": "cc286a56",
   "metadata": {},
   "outputs": [],
   "source": []
  }
 ],
 "metadata": {
  "kernelspec": {
   "display_name": "Python 3 (ipykernel)",
   "language": "python",
   "name": "python3"
  },
  "language_info": {
   "codemirror_mode": {
    "name": "ipython",
    "version": 3
   },
   "file_extension": ".py",
   "mimetype": "text/x-python",
   "name": "python",
   "nbconvert_exporter": "python",
   "pygments_lexer": "ipython3",
   "version": "3.8.12"
  }
 },
 "nbformat": 4,
 "nbformat_minor": 5
}
